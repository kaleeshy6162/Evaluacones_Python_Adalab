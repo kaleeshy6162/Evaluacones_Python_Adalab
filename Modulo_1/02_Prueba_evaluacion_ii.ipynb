{
 "cells": [
  {
   "cell_type": "markdown",
   "metadata": {},
   "source": [
    "## Pruebas_Evaluación"
   ]
  },
  {
   "cell_type": "code",
   "execution_count": 1,
   "metadata": {},
   "outputs": [],
   "source": [
    "# 1. Metodo1 Clase_TiendaOnline - Prueba Funcion de (agregar_producto).\n",
    "\n",
    "inventario = []   # `'nombre'`, `'precio'`, y `'cantidad'`\n",
    "\n",
    "def agregar_producto(nombre, precio, cantidad):\n",
    "\n",
    "    \"\"\"Este método recibe nombre, precio, cantidad y sirve para añadir productos al inventario y actualizar la cantidad de un producto\"\"\"\n",
    "    for producto in inventario :\n",
    "\n",
    "        if producto['nombre'] == nombre: # Si el producto es igual al produccto que esta en el inventario, informamos de que la cantidad del producto se ha actualizado correctamente.\n",
    "\n",
    "            producto['cantidad'] += cantidad # Actualizo la cantidad sumando la nueva.\n",
    "            print(f\"El producto {nombre} se ha actualizado correctamente.\")\n",
    "            return # Al cumplirse esta condicion paramos.\n",
    "           \n",
    "    # Si no se encuentra, se añade el nuevo producto\n",
    "    nuevo_p = {\"nombre\": nombre, \"precio\": precio, \"cantidad\": cantidad}\n",
    "    inventario.append(nuevo_p)\n",
    "    print(f\"El producto {nombre} se ha agregado al inventario.\")\n"
   ]
  },
  {
   "cell_type": "code",
   "execution_count": 14,
   "metadata": {},
   "outputs": [
    {
     "name": "stdout",
     "output_type": "stream",
     "text": [
      "El producto gafas se ha agregado al inventario.\n"
     ]
    }
   ],
   "source": [
    "agregar_producto(\"gafas\", 3.5, 6)"
   ]
  },
  {
   "cell_type": "code",
   "execution_count": 15,
   "metadata": {},
   "outputs": [
    {
     "data": {
      "text/plain": [
       "[{'nombre': 'gafas', 'precio': 3.5, 'cantidad': 6}]"
      ]
     },
     "execution_count": 15,
     "metadata": {},
     "output_type": "execute_result"
    }
   ],
   "source": [
    "inventario"
   ]
  },
  {
   "cell_type": "code",
   "execution_count": 16,
   "metadata": {},
   "outputs": [
    {
     "name": "stdout",
     "output_type": "stream",
     "text": [
      "El producto gafas se ha actualizado correctamente.\n"
     ]
    }
   ],
   "source": [
    "agregar_producto(\"gafas\", 3.5, 6)"
   ]
  },
  {
   "cell_type": "code",
   "execution_count": 17,
   "metadata": {},
   "outputs": [
    {
     "data": {
      "text/plain": [
       "[{'nombre': 'gafas', 'precio': 3.5, 'cantidad': 12}]"
      ]
     },
     "execution_count": 17,
     "metadata": {},
     "output_type": "execute_result"
    }
   ],
   "source": [
    "inventario"
   ]
  },
  {
   "cell_type": "markdown",
   "metadata": {},
   "source": [
    "---"
   ]
  },
  {
   "cell_type": "code",
   "execution_count": 18,
   "metadata": {},
   "outputs": [],
   "source": [
    "# 2. Metodo2 Clase_TiendaOnline - Prueba Funcion de (ver_inventario). (CON PRODUCTO)\n",
    "\n",
    "inventario = [{'nombre': 'gafas', 'precio': 3.5, 'cantidad': 12}, {'nombre': 'perro', 'precio': 3.5, 'cantidad': 12}]\n",
    "\n",
    "def ver_inventario():\n",
    "\n",
    "        \"\"\"Este metodo sirve para ver el inventario de productos con sus detalles.\"\"\"\n",
    "\n",
    "        if not inventario: # Si no hay nada, aviso de que esta el inventario vacio.\n",
    "             print(\"El inventario esta vacio\")\n",
    "\n",
    "        for producto in inventario:\n",
    "                # Imprimimo los detalles del producto.\n",
    "                print(f\"Nombre: {producto['nombre']}, Precio: ${producto['precio']}, Cantidad: {producto['cantidad']}\")"
   ]
  },
  {
   "cell_type": "code",
   "execution_count": 19,
   "metadata": {},
   "outputs": [
    {
     "name": "stdout",
     "output_type": "stream",
     "text": [
      "Nombre: gafas, Precio: $3.5, Cantidad: 12\n",
      "Nombre: perro, Precio: $3.5, Cantidad: 12\n"
     ]
    }
   ],
   "source": [
    "ver_inventario()"
   ]
  },
  {
   "cell_type": "code",
   "execution_count": 20,
   "metadata": {},
   "outputs": [],
   "source": [
    "# 2. Metodo2 Clase_TiendaOnline - Prueba Funcion de (ver_inventario). (VACIO)\n",
    "\n",
    "inventario = []\n",
    "\n",
    "def ver_inventario():\n",
    "\n",
    "        \"\"\"Este metodo sirve para ver el inventario de productos con sus detalles.\"\"\"\n",
    "\n",
    "        if not inventario: # Si no hay nada, aviso de que esta el inventario vacio.\n",
    "             print(\"El inventario esta vacio\")\n",
    "\n",
    "        for producto in inventario:\n",
    "                # Imprimimo los detalles del producto.\n",
    "                print(f\"Nombre: {producto['nombre']}, Precio: ${producto['precio']}, Cantidad: {producto['cantidad']}\")"
   ]
  },
  {
   "cell_type": "code",
   "execution_count": 21,
   "metadata": {},
   "outputs": [
    {
     "name": "stdout",
     "output_type": "stream",
     "text": [
      "El inventario esta vacio\n"
     ]
    }
   ],
   "source": [
    "ver_inventario()"
   ]
  },
  {
   "cell_type": "markdown",
   "metadata": {},
   "source": [
    "---"
   ]
  },
  {
   "cell_type": "code",
   "execution_count": 22,
   "metadata": {},
   "outputs": [],
   "source": [
    "# 3. Metodo3.1 Clase_TiendaOnline - Prueba Funcion de (buscar_producto). (CON PRODUCTO)\n",
    "\n",
    "inventario = [{'nombre': 'gafas', 'precio': 3.5, 'cantidad': 12}, {'nombre': 'perro', 'precio': 3.5, 'cantidad': 12}]\n",
    "\n",
    "def buscar_producto(nombre):\n",
    "\n",
    "    \"\"\"Este metodo sirve para buscar un producto en el inventario por nombre con sus detalles.\"\"\"\n",
    "\n",
    "    encontrado = False   # Variable para verificar si encontramos el producto\n",
    "\n",
    "    for producto in inventario:\n",
    "            \n",
    "            if nombre == producto['nombre'] :   # Si encontramos el producto\n",
    "                  \n",
    "                print(f\"Nombre: {producto['nombre']}, Precio: ${producto['precio']}, Cantidad: {producto['cantidad']}\")\n",
    "                encontrado = True  # Marcamos que se ha encontrado el producto\n",
    "                break  # Salimos del bucle ya que no necesitamos seguir buscando\n",
    "\n",
    "    if not encontrado:  # Si después de buscar no lo encontramos\n",
    "\n",
    "                print(f\"El producto: {nombre} no se encuentra en el inventario.\")\n",
    "           \n",
    "   "
   ]
  },
  {
   "cell_type": "code",
   "execution_count": 23,
   "metadata": {},
   "outputs": [],
   "source": [
    "# 3. Metodo3.2 Clase_TiendaOnline - Prueba Funcion de (buscar_producto). (CON PRODUCTO)\n",
    "\n",
    "inventario = [{'nombre': 'gafas', 'precio': 3.5, 'cantidad': 12}, {'nombre': 'perro', 'precio': 3.5, 'cantidad': 12}]\n",
    "\n",
    "def buscar_producto(nombre):\n",
    "\n",
    "    \"\"\"Este metodo sirve para buscar un producto en el inventario por nombre con sus detalles.\"\"\"\n",
    "\n",
    "    for producto in inventario:\n",
    "            \n",
    "            if nombre == producto['nombre'] :   # Si encontramos el producto\n",
    "                  \n",
    "                print(f\"Nombre: {producto['nombre']}, Precio: ${producto['precio']}, Cantidad: {producto['cantidad']}\")\n",
    "                break  # Salimos del bucle ya que no necesitamos seguir buscando\n",
    "\n",
    "    if nombre not in producto['nombre'] :  # Si después de buscar no lo encontramos\n",
    "\n",
    "                print(f\"El producto: {nombre} no se encuentra en el inventario.\")"
   ]
  },
  {
   "cell_type": "code",
   "execution_count": 24,
   "metadata": {},
   "outputs": [
    {
     "name": "stdout",
     "output_type": "stream",
     "text": [
      "El producto: gato no se encuentra en el inventario.\n"
     ]
    }
   ],
   "source": [
    "buscar_producto(\"gato\")"
   ]
  },
  {
   "cell_type": "code",
   "execution_count": 25,
   "metadata": {},
   "outputs": [
    {
     "name": "stdout",
     "output_type": "stream",
     "text": [
      "Nombre: perro, Precio: $3.5, Cantidad: 12\n"
     ]
    }
   ],
   "source": [
    "buscar_producto(\"perro\")"
   ]
  },
  {
   "cell_type": "markdown",
   "metadata": {},
   "source": [
    "---"
   ]
  },
  {
   "cell_type": "code",
   "execution_count": 7,
   "metadata": {},
   "outputs": [],
   "source": [
    "# 4. Metodo4 Clase_TiendaOnline - Prueba Funcion de (actualizar_stock). (CON PRODUCTO)\n",
    "\n",
    "inventario = [{'nombre': 'gafas', 'precio': 3.5, 'cantidad': 12}, {'nombre': 'perro', 'precio': 3.5, 'cantidad': 12}]\n",
    "\n",
    "def actualizar_stock(nombre, cantidad):\n",
    "         \n",
    "    \"\"\"Este metodo recibe nombre, cantidad y sirve para actualizar el stock de un producto en el inventario. Debe recibir el nombre del producto y la cantidad a agregar o quitar como parámetros. \"\"\"\n",
    "\n",
    "    for producto in inventario :\n",
    "\n",
    "        if producto['nombre'] == nombre :  # Si el producto es igual al produccto que esta en el inventario, actualizamos la cantidad del producto que hay en stock.\n",
    "\n",
    "            producto['cantidad'] = cantidad # Actualizo la cantidad sustituyendola.\n",
    "            print(f\"El producto {nombre} se ha actualizado correctamente, el stock actual es de {cantidad}.\")\n",
    "            return # Al cumplirse esta condicion paramos.\n",
    "        \n",
    "    if producto['nombre'] not in nombre :\n",
    "\n",
    "        print(f\"Lo siento no tenemos el producto {nombre} en el inventario.\")\n"
   ]
  },
  {
   "cell_type": "code",
   "execution_count": 12,
   "metadata": {},
   "outputs": [
    {
     "name": "stdout",
     "output_type": "stream",
     "text": [
      "El producto gafas se ha actualizado correctamente, el stock actual es de 25.\n"
     ]
    }
   ],
   "source": [
    "actualizar_stock(\"gafas\", 25)"
   ]
  },
  {
   "cell_type": "code",
   "execution_count": 11,
   "metadata": {},
   "outputs": [
    {
     "name": "stdout",
     "output_type": "stream",
     "text": [
      "Lo siento no tenemos el producto ave en el inventario.\n"
     ]
    }
   ],
   "source": [
    "actualizar_stock(\"ave\",3)"
   ]
  },
  {
   "cell_type": "markdown",
   "metadata": {},
   "source": [
    "---"
   ]
  },
  {
   "cell_type": "code",
   "execution_count": 1,
   "metadata": {},
   "outputs": [],
   "source": [
    "# 5. Metodo5 Clase_TiendaOnline - Prueba Funcion de (eliminar_producto). (CON PRODUCTO)\n",
    "\n",
    "inventario = [{'nombre': 'gafas', 'precio': 3.5, 'cantidad': 12}, {'nombre': 'perro', 'precio': 3.5, 'cantidad': 12}]\n",
    "\n",
    "def eliminar_producto(nombre):\n",
    "\n",
    "    \"\"\"Este metodo sirve para eliminar un producto del inventario por nombre. Debe recibir el nombre del producto como parámetro.\"\"\"\n",
    "\n",
    "    for producto in inventario:\n",
    "\n",
    "        if nombre == producto['nombre'] :\n",
    "\n",
    "            inventario.remove(producto)\n",
    "            print(f\"El producto: {nombre} a sido eliminado correctamente.\")\n",
    "\n",
    "    if producto['nombre'] not in nombre:\n",
    "\n",
    "        print(f\"El producto: {nombre} no esta en el inventario.\")\n"
   ]
  },
  {
   "cell_type": "code",
   "execution_count": 6,
   "metadata": {},
   "outputs": [
    {
     "name": "stdout",
     "output_type": "stream",
     "text": [
      "El producto: ave no esta en el inventario.\n"
     ]
    }
   ],
   "source": [
    "eliminar_producto(\"ave\")"
   ]
  },
  {
   "cell_type": "code",
   "execution_count": 5,
   "metadata": {},
   "outputs": [
    {
     "data": {
      "text/plain": [
       "[{'nombre': 'perro', 'precio': 3.5, 'cantidad': 12}]"
      ]
     },
     "execution_count": 5,
     "metadata": {},
     "output_type": "execute_result"
    }
   ],
   "source": [
    "inventario"
   ]
  },
  {
   "cell_type": "markdown",
   "metadata": {},
   "source": [
    "---"
   ]
  },
  {
   "cell_type": "code",
   "execution_count": 19,
   "metadata": {},
   "outputs": [],
   "source": [
    "# 6. Metodo6 Clase_TiendaOnline - Prueba Funcion de (calcular_valor_inventario). (CON PRODUCTO)\n",
    "\n",
    "inventario = [{'nombre': 'gafas', 'precio': 3.5, 'cantidad': 12}, {'nombre': 'perro', 'precio': 3.5, 'cantidad': 12}]\n",
    "\n",
    "def calcular_valor_inventario():\n",
    "\n",
    "    \"\"\"Este metodo sirve para calcular y mostrar el valor total del inventario.\"\"\"\n",
    "\n",
    "    valor_total = 0  # Inicio la variable para el valor total del inventario.\n",
    "\n",
    "    for producto in inventario:\n",
    "\n",
    "        valor_producto = producto['precio'] * producto['cantidad']  # Calculo el valor de cada producto.\n",
    "        valor_total += valor_producto  # Sumo el valor del producto al total.\n",
    "\n",
    "    print(f\"El valor total del inventario es: {valor_total} euros.\")  # Mostramos el valor total, fuera del bucle si no se imprime por cada elemento.\n"
   ]
  },
  {
   "cell_type": "code",
   "execution_count": 20,
   "metadata": {},
   "outputs": [
    {
     "name": "stdout",
     "output_type": "stream",
     "text": [
      "El valor total del inventario es: 84.0 euros.\n"
     ]
    }
   ],
   "source": [
    "calcular_valor_inventario()"
   ]
  },
  {
   "cell_type": "markdown",
   "metadata": {},
   "source": [
    "---"
   ]
  },
  {
   "cell_type": "code",
   "execution_count": 1,
   "metadata": {},
   "outputs": [],
   "source": [
    "# 7. Metodo7 Clase_TiendaOnline - Prueba Funcion de (realizar_compra). (CON PRODUCTO)\n",
    "\n",
    "inventario = [{'nombre': 'gafas', 'precio': 3.5, 'cantidad': 12}, {'nombre': 'perro', 'precio': 3.5, 'cantidad': 12}]\n",
    "\n",
    "def realizar_compra():\n",
    "\n",
    "    \"\"\"Este metodo permite al cliente seleccionar productos y calcular el costo total de la compra\"\"\"\n",
    "    \n",
    "    carrito = []  # Inicializamos un carrito vacío para almacenar los productos seleccionados.\n",
    "    costo_total = 0  # Inicializamos el costo total de la compra.\n",
    "    \n",
    "    while True:   # Este bucle permite que el cliente siga realizando compras hasta que decida detenerse.\n",
    "\n",
    "        print(\"\\n--- Inventario disponible ---\")\n",
    "\n",
    "        for producto in inventario:  # Mostramos el inventario disponible al cliente.\n",
    "            print(f\"Nombre: {producto['nombre']}, Precio: ${producto['precio']}, Cantidad disponible: {producto['cantidad']}\")\n",
    "        \n",
    "        # Solicitar al cliente que ingrese el nombre del producto que desea comprar.\n",
    "        nombre_producto = input(\"\\n¿Qué producto deseas comprar? (Escribe 'salir' para terminar): \").lower()  # Utilizo lower() para evitar problemas de mayúsculas o minúsculas.\n",
    "        \n",
    "        if nombre_producto == 'salir':\n",
    "            break  # Finaliza la compra si el cliente escribe 'salir'.\n",
    "        \n",
    "        # Buscar el producto en el inventario.\n",
    "        producto_encontrado = None  # Inicio la variable producto_encontrado como un valor \"nulo\" o vacío antes de comenzar la búsqueda en el inventario.\n",
    "\n",
    "        for producto in inventario:\n",
    "\n",
    "            if producto['nombre'] == nombre_producto:\n",
    "                producto_encontrado = producto\n",
    "                break #  Una vez que el producto es encontrado, salimos del bucle.\n",
    "        \n",
    "        if producto_encontrado: # Si el producto existe, solicito cuántas unidades desea el cliente.\n",
    "            cantidad = int(input(f\"¿Cuántas unidades de {producto_encontrado['nombre']} deseas comprar? \"))\n",
    "            \n",
    "            if cantidad <= producto_encontrado['cantidad']:\n",
    "                # Añado el producto al carrito y actualizo el inventario.\n",
    "                carrito.append({'nombre': producto_encontrado['nombre'], 'precio': producto_encontrado['precio'], 'cantidad': cantidad})\n",
    "                \n",
    "                # Resto la cantidad comprada del inventario.\n",
    "                producto_encontrado['cantidad'] -= cantidad\n",
    "                \n",
    "                # Actualizo el costo total.\n",
    "                costo_total += producto_encontrado['precio'] * cantidad\n",
    "                print(f\"\\nHas agregado {cantidad} unidades de {producto_encontrado['nombre']} al carrito.\")\n",
    "            else:\n",
    "                print(f\"\\nNo tenemos suficientes unidades de {producto_encontrado['nombre']}. Solo quedan {producto_encontrado['cantidad']} disponibles.\")\n",
    "        else:\n",
    "            print(f\"\\nEl producto {nombre_producto} no está en el inventario.\")\n",
    "    \n",
    "    # Muestro un resumen de la compra y costo total.\n",
    "    if carrito:\n",
    "        print(\"\\n--- Resumen de tu compra ---\")\n",
    "        for item in carrito:\n",
    "            print(f\"Producto: {item['nombre']}, Precio por unidad: ${item['precio']}, Cantidad: {item['cantidad']}\")\n",
    "        \n",
    "        print(f\"\\nEl costo total de tu compra es: ${costo_total:.2f}\")  # El :.2f asegura que cualquier número se mostrará siempre con dos decimales, redondeando si es necesario.\n",
    "    else:                                                               # Una forma abreviada de redondear sin tener que usar el round().\n",
    "        print(\"\\nNo has comprado ningún producto.\")\n"
   ]
  },
  {
   "cell_type": "code",
   "execution_count": null,
   "metadata": {},
   "outputs": [],
   "source": [
    "realizar_compra()"
   ]
  },
  {
   "cell_type": "markdown",
   "metadata": {},
   "source": [
    "---"
   ]
  },
  {
   "cell_type": "markdown",
   "metadata": {},
   "source": [
    "## BONUS:"
   ]
  },
  {
   "cell_type": "code",
   "execution_count": 30,
   "metadata": {},
   "outputs": [],
   "source": [
    "# 8. Metodo8 Clase_TiendaOnline - Prueba Funcion de (procesar_pago). (CON PRODUCTOS)\n",
    "\n",
    "def procesar_pago():\n",
    "\n",
    "    \"\"\"Este metodo nos sirve para procesar el pago de una compra, calcular el cambio y muestra un mensaje de confirmación.\"\"\"\n",
    "    \n",
    "    try:\n",
    "        # Solicito al cliente el total de la compra.\n",
    "        total_compra = float(input(\"Ingresa el total de la compra: \"))\n",
    "        \n",
    "        # Solicito al cliente la cantidad acumulada a pagar.\n",
    "        cantidad_pagada = float(input(f\"El total de la compra es ${total_compra:.2f}. Ingresa la cantidad acumulada a pagar: \"))\n",
    "        \n",
    "        # Verifico si el pago es suficiente.\n",
    "        if cantidad_pagada < total_compra:\n",
    "            raise ValueError(\"la cantidad acumulada es insuficiente para completar la compra.\")  # Lanza un error si el pago es menor.\n",
    "        \n",
    "        # Calculo el cambio.\n",
    "        cambio = cantidad_pagada - total_compra\n",
    "        print(f\"Pago exitoso. El cambio es: ${cambio:.2f}. ¡Gracias por tu compra!\")\n",
    "    \n",
    "    except ValueError as error:\n",
    "        # Capturo cualquier error de valor (como pago insuficiente o entrada no numérica).\n",
    "        print(f\"Error: {error}\")\n",
    "    \n",
    "    \n"
   ]
  },
  {
   "cell_type": "code",
   "execution_count": 31,
   "metadata": {},
   "outputs": [
    {
     "name": "stdout",
     "output_type": "stream",
     "text": [
      "Error: could not convert string to float: 'kl'\n"
     ]
    }
   ],
   "source": [
    "procesar_pago()"
   ]
  },
  {
   "cell_type": "markdown",
   "metadata": {},
   "source": [
    "---"
   ]
  },
  {
   "cell_type": "code",
   "execution_count": 1,
   "metadata": {},
   "outputs": [],
   "source": [
    "# 9. Metodo9 Clase_TiendaOnline - Prueba Funcion de (agregar_cliente). (SIN PRODUCTOS)\n",
    "\n",
    "clientes = {}\n",
    "\n",
    "def agregar_cliente(nombre, email):\n",
    "\n",
    "    \"\"\"Este metodo nos sirve para agregar un nuevo cliente al registro de clientes. Debe recibir el nombre y el correo electrónico del cliente como parámetros.\"\"\"\n",
    "\n",
    "    if nombre in clientes :  # Verifico si el cliente ya existe.\n",
    "\n",
    "        print(f\"El cliente {nombre} ya existe\")\n",
    "\n",
    "    else:  # Si el cliente no existe lo añado al diccionario.\n",
    "        añadir_cliente = {nombre: [email]}\n",
    "        clientes.update(añadir_cliente)  # Utilizo updata() : metodo que sirve para agregar elementos al diccionario.\n",
    "        print(f\"El cliente {nombre} se ha agregado correctamente.\")\n",
    "\n",
    "\n"
   ]
  },
  {
   "cell_type": "code",
   "execution_count": 2,
   "metadata": {},
   "outputs": [
    {
     "name": "stdout",
     "output_type": "stream",
     "text": [
      "El cliente laura se ha agregado correctamente.\n"
     ]
    }
   ],
   "source": [
    "agregar_cliente(\"laura\", \"laura1234@gmail.com\")"
   ]
  },
  {
   "cell_type": "code",
   "execution_count": 5,
   "metadata": {},
   "outputs": [
    {
     "data": {
      "text/plain": [
       "{'laura': ['laura1234@gmail.com']}"
      ]
     },
     "execution_count": 5,
     "metadata": {},
     "output_type": "execute_result"
    }
   ],
   "source": [
    "clientes"
   ]
  },
  {
   "cell_type": "code",
   "execution_count": 3,
   "metadata": {},
   "outputs": [
    {
     "name": "stdout",
     "output_type": "stream",
     "text": [
      "El cliente laura ya existe\n"
     ]
    }
   ],
   "source": [
    "agregar_cliente(\"laura\", \"laura1234@gmail.com\")"
   ]
  },
  {
   "cell_type": "markdown",
   "metadata": {},
   "source": [
    "---"
   ]
  },
  {
   "cell_type": "code",
   "execution_count": 6,
   "metadata": {},
   "outputs": [],
   "source": [
    "# 10. Metodo10 Clase_TiendaOnline - Prueba Funcion de (agregar_cliente). (CON CLIENTES)\n",
    "\n",
    "clientes = {'laura': ['L.G.F_@gmail.com']}\n",
    "\n",
    "def ver_clientes(): \n",
    "\n",
    "    \"\"\"Este metodo nos sirve para mostrar la lista de clientes registrados con sus nombres y correos electrónicos.\"\"\"\n",
    "\n",
    "    if clientes: # Verifico si hay algún cliente registrado en el diccionario\n",
    "        for cliente, datos in clientes.items():  # Itero sobre las claves (nombres) y valores (emails) del diccionario.\n",
    "            print(f\"Nombre: {cliente}, Email: {datos[0]}\")  # .items(): se utiliza en los diccionarios para obtener tanto las claves como los valores al mismo tiempo.\n",
    "        \n",
    "    else:\n",
    "        print(\"No hay clientes registrados.\")  # Muestro un mensaje si no hay ningún cliente registrado.\n",
    "        "
   ]
  },
  {
   "cell_type": "code",
   "execution_count": 7,
   "metadata": {},
   "outputs": [
    {
     "name": "stdout",
     "output_type": "stream",
     "text": [
      "Nombre: laura, Email: L.G.F_@gmail.com\n"
     ]
    }
   ],
   "source": [
    "ver_clientes()"
   ]
  },
  {
   "cell_type": "markdown",
   "metadata": {},
   "source": [
    "---"
   ]
  },
  {
   "cell_type": "code",
   "execution_count": 99,
   "metadata": {},
   "outputs": [],
   "source": [
    "# 11. Metodo10 Clase_TiendaOnline - Prueba Funcion de (agregar_cliente). (CON CLIENTES)\n",
    "\n",
    "inventario = [{'nombre': 'gafas', 'precio': 3.5, 'cantidad': 10}]\n",
    "clientes = {'laura': ['L.G.F_@gmail.com']}\n",
    "\n",
    "carrito_cliente = []\n",
    "total_carrito = 0\n",
    "\n",
    "def registrar_compra(nombre_cliente, carrito):\n",
    "\n",
    "    \"\"\"Este metodo nos sirve para registrar una compra para un cliente, actualizar las ventas totales y agregar la compra al historial del cliente. Debe recibir el nombre del cliente y el carrito de compras como parámetros.\"\"\"\n",
    "    \n",
    "    if nombre_cliente not in clientes:\n",
    "        print(f\"No se puede registrar la compra, el cliente: {nombre_cliente} no esta registrado.\")\n",
    "        return\n",
    "\n",
    "    total_compra = 0\n",
    "\n",
    "    for producto in inventario:\n",
    "        if clientes[] == nombre_cliente:\n",
    "                print(f\"{producto['nombre']},{producto['precio']}\")\n",
    "                \n",
    "            \n",
    "\n",
    "\n",
    "                \n",
    "                \n",
    "                print(f\"La compra se ha añadido correctamente.\")\n",
    "\n",
    "    carrito_cliente.append(carrito)\n",
    "    #print(f\"En tu lista de la compra hay: {historial_cliente}\")            \n",
    "    return f\"En tu lista de la compra hay: {carrito_cliente}\""
   ]
  }
 ],
 "metadata": {
  "kernelspec": {
   "display_name": "base",
   "language": "python",
   "name": "python3"
  },
  "language_info": {
   "codemirror_mode": {
    "name": "ipython",
    "version": 3
   },
   "file_extension": ".py",
   "mimetype": "text/x-python",
   "name": "python",
   "nbconvert_exporter": "python",
   "pygments_lexer": "ipython3",
   "version": "3.9.12"
  }
 },
 "nbformat": 4,
 "nbformat_minor": 2
}
